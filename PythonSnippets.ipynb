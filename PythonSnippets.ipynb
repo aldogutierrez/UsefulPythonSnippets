{
 "cells": [
  {
   "cell_type": "markdown",
   "metadata": {
    "collapsed": true,
    "pycharm": {
     "name": "#%% md\n"
    }
   },
   "source": [
    "# Some useful Python snippets\n",
    "\n",
    "This notebook will provide you with some snippets to make your Python coding easier\n",
    "and hopfully, more compact.\n"
   ]
  },
  {
   "cell_type": "code",
   "execution_count": 3,
   "outputs": [
    {
     "name": "stdout",
     "text": [
      "True\n",
      "False\n"
     ],
     "output_type": "stream"
    }
   ],
   "source": [
    "# This function helps you check if a list has duplicate entries\n",
    "def all_unique(aList):\n",
    "    return len(aList) == len(set(aList))\n",
    "\n",
    "list1 = [1, 2, 3, 4, 5, 6, 7]\n",
    "list2 = [1, 3, 4, 5, 3, 2, 1]\n",
    "\n",
    "print(all_unique(list1))\n",
    "print(all_unique(list2))"
   ],
   "metadata": {
    "collapsed": false,
    "pycharm": {
     "name": "#%%\n",
     "is_executing": false
    }
   }
  },
  {
   "cell_type": "code",
   "execution_count": 5,
   "outputs": [
    {
     "name": "stdout",
     "text": [
      "True\n",
      "False\n"
     ],
     "output_type": "stream"
    }
   ],
   "source": [
    "from collections import Counter\n",
    "\n",
    "# This function lets you know if two strings are anagrams\n",
    "# Anagrams are strings that can be arranged to give the same string\n",
    "def areAnagrams(firstString, secondString):\n",
    "    return Counter(firstString) == Counter(secondString)\n",
    "\n",
    "print(areAnagrams(\"listen\", \"silent\"))\n",
    "print(areAnagrams(\"bottle\", \"table\"))"
   ],
   "metadata": {
    "collapsed": false,
    "pycharm": {
     "name": "#%%\n",
     "is_executing": false
    }
   }
  },
  {
   "cell_type": "code",
   "execution_count": 11,
   "outputs": [
    {
     "name": "stdout",
     "text": [
      "28\n",
      "24\n"
     ],
     "output_type": "stream"
    }
   ],
   "source": [
    "# The 'sys' library lets you know how much memory an object/variable is using\n",
    "\n",
    "from sys import getsizeof\n",
    "\n",
    "my_variable = 21\n",
    "another_variable = 3.1415926\n",
    "\n",
    "print(getsizeof(my_variable))\n",
    "print(getsizeof(another_variable))"
   ],
   "metadata": {
    "collapsed": false,
    "pycharm": {
     "name": "#%%\n",
     "is_executing": false
    }
   }
  },
  {
   "cell_type": "code",
   "execution_count": 13,
   "outputs": [
    {
     "name": "stdout",
     "text": [
      "The size of Eureka is 6 bytes\n"
     ],
     "output_type": "stream"
    }
   ],
   "source": [
    "# This function lets you know the size in bytes of an object variable\n",
    "# depending on your chose encoding\n",
    "def size_in_bytes(obj):\n",
    "    return len(obj.encode('utf-8'))\n",
    "\n",
    "var = 'Eureka'\n",
    "print('The size of', var, 'is', size_in_bytes(var), 'bytes')"
   ],
   "metadata": {
    "collapsed": false,
    "pycharm": {
     "name": "#%%\n",
     "is_executing": false
    }
   }
  },
  {
   "cell_type": "code",
   "execution_count": 16,
   "outputs": [
    {
     "name": "stdout",
     "text": [
      " number 9 number 9 number 9 number 9 number 9\n",
      " Number 9 Number 9 Number 9 Number 9 Number 9\n"
     ],
     "output_type": "stream"
    }
   ],
   "source": [
    "# These string functions can be useful\n",
    "\n",
    "n_times = 5\n",
    "song = ' number 9'\n",
    "print(song * n_times)\n",
    "\n",
    "# And you can capitalize the first letters as well\n",
    "print(song.title() * n_times)"
   ],
   "metadata": {
    "collapsed": false,
    "pycharm": {
     "name": "#%%\n",
     "is_executing": false
    }
   }
  },
  {
   "cell_type": "code",
   "execution_count": 20,
   "outputs": [
    {
     "name": "stdout",
     "text": [
      "[[1, 2, 3], [4, 5, 6], [7, 8, 9], [10, 11, 12]]\n"
     ],
     "output_type": "stream"
    }
   ],
   "source": [
    "# You can chunk lists to smaller lists of a specified size\n",
    "def get_chunks(aList, size):\n",
    "    return [aList[i:i + size] for i in range(0, len(aList), size)]\n",
    "\n",
    "another_list = [1, 2, 3, 4, 5, 6, 7, 8, 9, 10, 11, 12]\n",
    "print(get_chunks(another_list, 3))"
   ],
   "metadata": {
    "collapsed": false,
    "pycharm": {
     "name": "#%%\n",
     "is_executing": false
    }
   }
  },
  {
   "cell_type": "code",
   "execution_count": 21,
   "outputs": [
    {
     "name": "stdout",
     "text": [
      "[False, 1, 7, 45, None, True, '', 42, 0]\n",
      "[1, 7, 45, True, 42]\n"
     ],
     "output_type": "stream"
    }
   ],
   "source": [
    "# This function lets you get rid of values such as None, 0, False, and \"\" from lists\n",
    "def compact(aList):\n",
    "    return list(filter(None, aList))\n",
    "\n",
    "example = [False, 1, 7, 45, None, True, '', 42, 0]\n",
    "print(example)\n",
    "print(compact(example))"
   ],
   "metadata": {
    "collapsed": false,
    "pycharm": {
     "name": "#%%\n",
     "is_executing": false
    }
   }
  },
  {
   "cell_type": "code",
   "execution_count": 24,
   "outputs": [
    {
     "name": "stdout",
     "text": [
      "[('a1', 'd1', 'g1', 'j1'), ('b1', 'e1', 'h1', 'k1'), ('c1', 'f1', 'i1', 'l1')]\n"
     ],
     "output_type": "stream"
    }
   ],
   "source": [
    "# We can transpose a 2D array manually, but you can use a library as well\n",
    "array2D = [['a1', 'b1', 'c1'], \n",
    "           ['d1', 'e1', 'f1'],\n",
    "           ['g1', 'h1', 'i1'],\n",
    "           ['j1', 'k1', 'l1']]\n",
    "\n",
    "transpose = zip(*array2D)\n",
    "print(list(transpose))"
   ],
   "metadata": {
    "collapsed": false,
    "pycharm": {
     "name": "#%%\n",
     "is_executing": false
    }
   }
  },
  {
   "cell_type": "code",
   "execution_count": 1,
   "outputs": [
    {
     "output_type": "stream",
     "name": "stdout",
     "text": "True\nFalse\n"
    }
   ],
   "source": [
    "# In Python, you are able to chain comparasons in if statements\n",
    "var = 5\n",
    "print(2 < var < 10)\n",
    "print(6 < var < 10)"
   ],
   "metadata": {
    "collapsed": false,
    "pycharm": {
     "name": "#%%\n"
    },
    "tags": []
   }
  },
  {
   "cell_type": "code",
   "execution_count": 2,
   "metadata": {
    "tags": []
   },
   "outputs": [
    {
     "output_type": "stream",
     "name": "stdout",
     "text": "I know how to play guitar, bass, drums, ukulele\n"
    }
   ],
   "source": [
    "# When using lists, specially containing strings, we can separate them with commas\n",
    "instruments = ['guitar', 'bass', 'drums', 'ukulele']\n",
    "print('I know how to play', ', '.join(instruments))"
   ]
  },
  {
   "cell_type": "code",
   "execution_count": 3,
   "metadata": {
    "tags": []
   },
   "outputs": [
    {
     "output_type": "stream",
     "name": "stdout",
     "text": "['e', 'u', 'i', 'o', 'o', 'u', 'o', 'e', 'e', 'a', 'o']\n"
    }
   ],
   "source": [
    "# Other times, we would want to return the vowels or consonants from words\n",
    "def getVowels(aString):\n",
    "    return [vowel for vowel in aString if vowel in 'aeiou']\n",
    "\n",
    "var = 'The quick brown fox jumps over the lazy dog'\n",
    "print(getVowels(var))"
   ]
  },
  {
   "cell_type": "code",
   "execution_count": 6,
   "metadata": {
    "tags": []
   },
   "outputs": [
    {
     "output_type": "stream",
     "name": "stdout",
     "text": "[1, 2, 3, 4, 5, 6, 7, 8, 9, 10]\n"
    }
   ],
   "source": [
    "# Sometimes we encounter a list that contains lists within lists within lists\n",
    "# this function flattens these lists using recursion to return a singular list\n",
    "def deep_flatten(xs):\n",
    "    flat_list = []\n",
    "    [flat_list.extend(deep_flatten(x)) for x in xs] if isinstance(xs, list) else flat_list.append(xs)\n",
    "    return flat_list\n",
    "\n",
    "another_list = [1, 2, [3, [4, 5]], 6, 7, [8, [9, [10]]]]\n",
    "print(deep_flatten(another_list))"
   ]
  },
  {
   "cell_type": "code",
   "execution_count": 3,
   "metadata": {
    "tags": []
   },
   "outputs": [
    {
     "output_type": "stream",
     "name": "stdout",
     "text": "[1, 2, 3, 4, 5, 6, 7, 8, 9, 10]\n"
    }
   ],
   "source": [
    "# Like the cell above, this function works well for flattening lists within lists,\n",
    "# however, this is a more shallow flattening\n",
    "def spread(aList):\n",
    "    flattened = []\n",
    "    for element in aList:\n",
    "        if isinstance(element, list):\n",
    "            flattened.extend(element)\n",
    "        else:\n",
    "            flattened.append(element)\n",
    "    return flattened\n",
    "\n",
    "another_list = [1, 2, [3, 4], 5, [6, 7, 8], [9, 10]]\n",
    "print(spread(another_list))"
   ]
  },
  {
   "cell_type": "code",
   "execution_count": 4,
   "metadata": {
    "tags": []
   },
   "outputs": [
    {
     "output_type": "stream",
     "name": "stdout",
     "text": "[9, 2]\n"
    }
   ],
   "source": [
    "# Sometimes it is useful to perform a list difference to know the elements that are\n",
    "# exclusive to an iterable\n",
    "\n",
    "# It is useful to know that this function performs the classic set difference, given sets A and B\n",
    "# Difference = A AND NOT B\n",
    "def difference(list_a, list_b):\n",
    "    set_a = set(list_a)\n",
    "    set_b = set(list_b)\n",
    "    return list(set_a.difference(set_b))\n",
    "\n",
    "list1 = [4, 2, 6, 87, 9]\n",
    "list2 = [4, 4, 6, 87, 11]\n",
    "\n",
    "print(difference(list1, list2))"
   ]
  },
  {
   "cell_type": "code",
   "execution_count": 9,
   "metadata": {
    "tags": []
   },
   "outputs": [
    {
     "output_type": "stream",
     "name": "stdout",
     "text": "True\nFalse\n"
    }
   ],
   "source": [
    "# While we're still using the set function, we can use them to check if\n",
    "# a list contains entry duplicates, as sets only contain unique entries\n",
    "def hasDuplicates(aList):\n",
    "    return len(aList) != len(set(aList))\n",
    "\n",
    "another_list = [1, 2, 3, 5, 6, 3, 8, 1]\n",
    "a_list = [1, 2, 3, 5, 6, 0, 8, 9]\n",
    "print(hasDuplicates(another_list))\n",
    "print(hasDuplicates(a_list))"
   ]
  },
  {
   "cell_type": "code",
   "execution_count": 6,
   "metadata": {
    "tags": []
   },
   "outputs": [
    {
     "output_type": "stream",
     "name": "stdout",
     "text": "11\n"
    }
   ],
   "source": [
    "# Python allows us to use functions as parameters inputing the arguments later\n",
    "def add(number_a, number_b):\n",
    "    return number_a + number_b\n",
    "\n",
    "def subtract(number_a, number_b):\n",
    "    return number_a - number_b\n",
    "\n",
    "a, b = 3, 8\n",
    "# (tuple1 = statement) (tuple2 = arguments)\n",
    "print((add if a < b else subtract)(a, b))"
   ]
  },
  {
   "cell_type": "code",
   "execution_count": 11,
   "metadata": {
    "tags": []
   },
   "outputs": [
    {
     "output_type": "stream",
     "name": "stdout",
     "text": "{'A': 1, 'B': 2, 'C': 3, 'D': 4, 'E': 5, 'F': 6}\n{'A': 1, 'B': 2, 'C': 3, 'D': 4, 'E': 5, 'F': 6}\n"
    }
   ],
   "source": [
    "# Other times we find ourselves working with dictionaries and we\n",
    "# may need to have merge them into a single dict to work better\n",
    "def merge_dictionaries(dict_a, dict_b):\n",
    "    temp = dict_a.copy()\n",
    "    temp.update(dict_b)\n",
    "    return temp\n",
    "\n",
    "#If our Python version is > 3.5 it's even easier\n",
    "def merge_dicts(dict_a, dict_b):\n",
    "    return {**dict_a, **dict_b}\n",
    "\n",
    "one_dict = {'A' : 1, 'B' : 2, 'C' : 3}\n",
    "another_dict = {'D' : 4, 'E' : 5, 'F' : 6}\n",
    "\n",
    "print(merge_dictionaries(one_dict, another_dict))\n",
    "print(merge_dicts(one_dict, another_dict))"
   ]
  },
  {
   "cell_type": "code",
   "execution_count": 13,
   "metadata": {
    "tags": []
   },
   "outputs": [
    {
     "output_type": "stream",
     "name": "stdout",
     "text": "{'A': 1, 'B': 2, 'C': 3}\n"
    }
   ],
   "source": [
    "# Sometimes I need to convert two lists into a dictionary\n",
    "def lists_to_dictionary(keys, values):\n",
    "    return dict(zip(keys, values))\n",
    "\n",
    "letters = ['A', 'B', 'C']\n",
    "position = [1, 2, 3]\n",
    "\n",
    "print(lists_to_dictionary(letters, position))"
   ]
  },
  {
   "cell_type": "code",
   "execution_count": 3,
   "metadata": {
    "tags": []
   },
   "outputs": [
    {
     "output_type": "stream",
     "name": "stdout",
     "text": "Value ' spring ' Index 0\nValue ' summer ' Index 1\nValue ' autumn ' Index 2\nValue ' winter ' Index 3\n"
    }
   ],
   "source": [
    "# When using lists or tuples, it is easier for us to enumerate the values\n",
    "# and index than having to access the iterable every time\n",
    "seasons = ['spring', 'summer', 'autumn', 'winter']\n",
    "\n",
    "for index, value in enumerate(seasons):\n",
    "    print('Value \\'', value, '\\' Index', index)"
   ]
  },
  {
   "cell_type": "code",
   "execution_count": 9,
   "metadata": {
    "tags": []
   },
   "outputs": [
    {
     "output_type": "stream",
     "name": "stdout",
     "text": "[1, 3, 4, 5, 7, 7, 8, 16, 23, 37, 52, 67, 72, 74, 159]\nTime:  0.0005118846893310547\n"
    }
   ],
   "source": [
    "# Python, being an interpreted language, is slower than compiled languages\n",
    "# In case that you'd like to check how long you code is taking, you can use the\n",
    "# timing library to check\n",
    "import time\n",
    "\n",
    "# Then you can set a kind of stopwatch\n",
    "\n",
    "start_time = time.time()\n",
    "\n",
    "randList = [4, 7, 1, 7, 5, 3, 8, 23, 74, 67, 159, 72, 16, 37, 52]\n",
    "randList = sorted(randList)\n",
    "print(randList)\n",
    "\n",
    "end_time = time.time()\n",
    "\n",
    "total_time = end_time - start_time\n",
    "print('Time: ', total_time)"
   ]
  },
  {
   "cell_type": "code",
   "execution_count": 11,
   "metadata": {
    "tags": []
   },
   "outputs": [
    {
     "output_type": "stream",
     "name": "stdout",
     "text": "0\nGreat, this code is error free\n"
    }
   ],
   "source": [
    "# For code checking, we have all probably used the infamous try/except block\n",
    "# but most of us stop there, when in actuallity, when can set another block\n",
    "# to be executed if no errors were raised\n",
    "\n",
    "try:\n",
    "    a = 3\n",
    "    b = 0\n",
    "    print(a/b) # You can try with other operands to try the else block\n",
    "except Exception:\n",
    "    print('An exception was raised')\n",
    "else:\n",
    "    print('Great, this code is error free')"
   ]
  },
  {
   "cell_type": "code",
   "execution_count": 12,
   "metadata": {},
   "outputs": [
    {
     "output_type": "execute_result",
     "data": {
      "text/plain": "20"
     },
     "metadata": {},
     "execution_count": 12
    }
   ],
   "source": [
    "# When working with measures of central tendency, it is useful to know\n",
    "# the mode, which is the value with a higher frequency among other results\n",
    "\n",
    "def mostFrequent(list):\n",
    "    return max(set(list), key=list.count)\n",
    "\n",
    "randList = [51, 69, 20, 25, 74, 51, 21, 20, 65, 20]\n",
    "mostFrequent(randList)"
   ]
  },
  {
   "cell_type": "code",
   "execution_count": 19,
   "metadata": {
    "tags": []
   },
   "outputs": [
    {
     "output_type": "stream",
     "name": "stdout",
     "text": "True\nTrue\n"
    }
   ],
   "source": [
    "# This cool one-liner checks if a string is a palindrome\n",
    "def isPalindrome(string):\n",
    "    return string == string[::-1]\n",
    "\n",
    "print(isPalindrome('lonelytylenol'))\n",
    "print(isPalindrome('anitalavalatina'))"
   ]
  },
  {
   "cell_type": "code",
   "execution_count": 20,
   "metadata": {
    "tags": []
   },
   "outputs": [
    {
     "output_type": "stream",
     "name": "stdout",
     "text": "4096\n"
    }
   ],
   "source": [
    "# One of the firsts things we learn when programming, it to create a calculator\n",
    "# using the operator library, we can create a calculator without if/else statements\n",
    "import operator\n",
    "\n",
    "action = {\n",
    "    '+' : operator.add,\n",
    "    '-' : operator.sub,\n",
    "    '*' : operator.mul,\n",
    "    '/' : operator.truediv,\n",
    "    '**' : operator.pow\n",
    "}\n",
    "\n",
    "print(action['**'](2, 12))"
   ]
  },
  {
   "cell_type": "code",
   "execution_count": 32,
   "metadata": {
    "tags": []
   },
   "outputs": [
    {
     "output_type": "stream",
     "name": "stdout",
     "text": "X}@Dcl63p3Dg:L0u^:~4u$!*vNSIk{7RjRx?v\n"
    }
   ],
   "source": [
    "# I have used Python to create random passwords for me, and using\n",
    "# a shuffler function for that is really useful\n",
    "\n",
    "from random import shuffle, choice\n",
    "\n",
    "characters = 'abcdefghijklmnopqrstuvwxyzABCDEGHIJKLMNOPQRSTUVWXYZ0123456789!@#$%^&*(){}|:\"<>?~`'\n",
    "\n",
    "def passwordGenerator(length):\n",
    "    password = ''\n",
    "    for char in range(length):\n",
    "        password += choice(characters)\n",
    "    password = list(password)\n",
    "    shuffle(password)\n",
    "    password = ''.join(password)\n",
    "    print(password)\n",
    "\n",
    "passwordGenerator(37)"
   ]
  },
  {
   "cell_type": "code",
   "execution_count": 33,
   "metadata": {
    "tags": []
   },
   "outputs": [
    {
     "output_type": "stream",
     "name": "stdout",
     "text": "20\n4\n"
    }
   ],
   "source": [
    "# The classical value swap without a third temp variable\n",
    "a, b = 4, 20\n",
    "a, b = b, a\n",
    "\n",
    "print(a)\n",
    "print(b)"
   ]
  }
 ],
 "metadata": {
  "kernelspec": {
   "name": "python37",
   "language": "python",
   "display_name": "Python3.7"
  },
  "language_info": {
   "codemirror_mode": {
    "name": "ipython",
    "version": 2
   },
   "file_extension": ".py",
   "mimetype": "text/x-python",
   "name": "python",
   "nbconvert_exporter": "python",
   "pygments_lexer": "ipython2",
   "version": "3.7.0-final"
  },
  "pycharm": {
   "stem_cell": {
    "cell_type": "raw",
    "source": [],
    "metadata": {
     "collapsed": false
    }
   }
  }
 },
 "nbformat": 4,
 "nbformat_minor": 0
}