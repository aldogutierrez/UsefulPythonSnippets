{
 "cells": [
  {
   "cell_type": "markdown",
   "metadata": {
    "collapsed": true,
    "pycharm": {
     "name": "#%% md\n"
    }
   },
   "source": [
    "# Some useful Python snippets\n",
    "\n",
    "This notebook will provide you with some snippets to make your Python coding easier\n",
    "and hopfully, more compact.\n"
   ]
  },
  {
   "cell_type": "code",
   "execution_count": 3,
   "outputs": [
    {
     "name": "stdout",
     "text": [
      "True\n",
      "False\n"
     ],
     "output_type": "stream"
    }
   ],
   "source": [
    "# This function helps you check if a list has duplicate entries\n",
    "def all_unique(aList):\n",
    "    return len(aList) == len(set(aList))\n",
    "\n",
    "list1 = [1, 2, 3, 4, 5, 6, 7]\n",
    "list2 = [1, 3, 4, 5, 3, 2, 1]\n",
    "\n",
    "print(all_unique(list1))\n",
    "print(all_unique(list2))"
   ],
   "metadata": {
    "collapsed": false,
    "pycharm": {
     "name": "#%%\n",
     "is_executing": false
    }
   }
  },
  {
   "cell_type": "code",
   "execution_count": 5,
   "outputs": [
    {
     "name": "stdout",
     "text": [
      "True\n",
      "False\n"
     ],
     "output_type": "stream"
    }
   ],
   "source": [
    "from collections import Counter\n",
    "\n",
    "# This function lets you know if two strings are anagrams\n",
    "# Anagrams are strings that can be arranged to give the same string\n",
    "def areAnagrams(firstString, secondString):\n",
    "    return Counter(firstString) == Counter(secondString)\n",
    "\n",
    "print(areAnagrams(\"listen\", \"silent\"))\n",
    "print(areAnagrams(\"bottle\", \"table\"))"
   ],
   "metadata": {
    "collapsed": false,
    "pycharm": {
     "name": "#%%\n",
     "is_executing": false
    }
   }
  },
  {
   "cell_type": "code",
   "execution_count": 11,
   "outputs": [
    {
     "name": "stdout",
     "text": [
      "28\n",
      "24\n"
     ],
     "output_type": "stream"
    }
   ],
   "source": [
    "# The 'sys' library lets you know how much memory an object/variable is using\n",
    "\n",
    "from sys import getsizeof\n",
    "\n",
    "my_variable = 21\n",
    "another_variable = 3.1415926\n",
    "\n",
    "print(getsizeof(my_variable))\n",
    "print(getsizeof(another_variable))"
   ],
   "metadata": {
    "collapsed": false,
    "pycharm": {
     "name": "#%%\n",
     "is_executing": false
    }
   }
  },
  {
   "cell_type": "code",
   "execution_count": 13,
   "outputs": [
    {
     "name": "stdout",
     "text": [
      "The size of Eureka is 6 bytes\n"
     ],
     "output_type": "stream"
    }
   ],
   "source": [
    "# This function lets you know the size in bytes of an object variable\n",
    "# depending on your chose encoding\n",
    "def size_in_bytes(obj):\n",
    "    return len(obj.encode('utf-8'))\n",
    "\n",
    "var = 'Eureka'\n",
    "print('The size of', var, 'is', size_in_bytes(var), 'bytes')"
   ],
   "metadata": {
    "collapsed": false,
    "pycharm": {
     "name": "#%%\n",
     "is_executing": false
    }
   }
  },
  {
   "cell_type": "code",
   "execution_count": 16,
   "outputs": [
    {
     "name": "stdout",
     "text": [
      " number 9 number 9 number 9 number 9 number 9\n",
      " Number 9 Number 9 Number 9 Number 9 Number 9\n"
     ],
     "output_type": "stream"
    }
   ],
   "source": [
    "# These string functions can be useful\n",
    "\n",
    "n_times = 5\n",
    "song = ' number 9'\n",
    "print(song * n_times)\n",
    "\n",
    "# And you can capitalize the first letters as well\n",
    "print(song.title() * n_times)"
   ],
   "metadata": {
    "collapsed": false,
    "pycharm": {
     "name": "#%%\n",
     "is_executing": false
    }
   }
  },
  {
   "cell_type": "code",
   "execution_count": 20,
   "outputs": [
    {
     "name": "stdout",
     "text": [
      "[[1, 2, 3], [4, 5, 6], [7, 8, 9], [10, 11, 12]]\n"
     ],
     "output_type": "stream"
    }
   ],
   "source": [
    "# You can chunk lists to smaller lists of a specified size\n",
    "def get_chunks(aList, size):\n",
    "    return [aList[i:i + size] for i in range(0, len(aList), size)]\n",
    "\n",
    "another_list = [1, 2, 3, 4, 5, 6, 7, 8, 9, 10, 11, 12]\n",
    "print(get_chunks(another_list, 3))"
   ],
   "metadata": {
    "collapsed": false,
    "pycharm": {
     "name": "#%%\n",
     "is_executing": false
    }
   }
  },
  {
   "cell_type": "code",
   "execution_count": 21,
   "outputs": [
    {
     "name": "stdout",
     "text": [
      "[False, 1, 7, 45, None, True, '', 42, 0]\n",
      "[1, 7, 45, True, 42]\n"
     ],
     "output_type": "stream"
    }
   ],
   "source": [
    "# This function lets you get rid of values such as None, 0, False, and \"\" from lists\n",
    "def compact(aList):\n",
    "    return list(filter(None, aList))\n",
    "\n",
    "example = [False, 1, 7, 45, None, True, '', 42, 0]\n",
    "print(example)\n",
    "print(compact(example))"
   ],
   "metadata": {
    "collapsed": false,
    "pycharm": {
     "name": "#%%\n",
     "is_executing": false
    }
   }
  },
  {
   "cell_type": "code",
   "execution_count": 24,
   "outputs": [
    {
     "name": "stdout",
     "text": [
      "[('a1', 'd1', 'g1', 'j1'), ('b1', 'e1', 'h1', 'k1'), ('c1', 'f1', 'i1', 'l1')]\n"
     ],
     "output_type": "stream"
    }
   ],
   "source": [
    "# We can transpose a 2D array manually, but you can use a library as well\n",
    "array2D = [['a1', 'b1', 'c1'], \n",
    "           ['d1', 'e1', 'f1'],\n",
    "           ['g1', 'h1', 'i1'],\n",
    "           ['j1', 'k1', 'l1']]\n",
    "\n",
    "transpose = zip(*array2D)\n",
    "print(list(transpose))"
   ],
   "metadata": {
    "collapsed": false,
    "pycharm": {
     "name": "#%%\n",
     "is_executing": false
    }
   }
  },
  {
   "cell_type": "code",
   "execution_count": 1,
   "outputs": [
    {
     "output_type": "stream",
     "name": "stdout",
     "text": "True\nFalse\n"
    }
   ],
   "source": [
    "# In Python, you are able to chain comparasons in if statements\n",
    "var = 5\n",
    "print(2 < var < 10)\n",
    "print(6 < var < 10)"
   ],
   "metadata": {
    "collapsed": false,
    "pycharm": {
     "name": "#%%\n"
    },
    "tags": []
   }
  },
  {
   "cell_type": "code",
   "execution_count": 2,
   "metadata": {
    "tags": []
   },
   "outputs": [
    {
     "output_type": "stream",
     "name": "stdout",
     "text": "I know how to play guitar, bass, drums, ukulele\n"
    }
   ],
   "source": [
    "# When using lists, specially containing strings, we can separate them with commas\n",
    "instruments = ['guitar', 'bass', 'drums', 'ukulele']\n",
    "print('I know how to play', ', '.join(instruments))"
   ]
  },
  {
   "cell_type": "code",
   "execution_count": 3,
   "metadata": {
    "tags": []
   },
   "outputs": [
    {
     "output_type": "stream",
     "name": "stdout",
     "text": "['e', 'u', 'i', 'o', 'o', 'u', 'o', 'e', 'e', 'a', 'o']\n"
    }
   ],
   "source": [
    "# Other times, we would want to return the vowels or consonants from words\n",
    "def getVowels(aString):\n",
    "    return [vowel for vowel in aString if vowel in 'aeiou']\n",
    "\n",
    "var = 'The quick brown fox jumps over the lazy dog'\n",
    "print(getVowels(var))"
   ]
  },
  {
   "cell_type": "code",
   "execution_count": 6,
   "metadata": {
    "tags": []
   },
   "outputs": [
    {
     "output_type": "stream",
     "name": "stdout",
     "text": "[1, 2, 3, 4, 5, 6, 7, 8, 9, 10]\n"
    }
   ],
   "source": [
    "# Sometimes we encounter a list that contains lists within lists within lists\n",
    "# this function flattens these lists using recursion to return a singular list\n",
    "def deep_flatten(xs):\n",
    "    flat_list = []\n",
    "    [flat_list.extend(deep_flatten(x)) for x in xs] if isinstance(xs, list) else flat_list.append(xs)\n",
    "    return flat_list\n",
    "\n",
    "another_list = [1, 2, [3, [4, 5]], 6, 7, [8, [9, [10]]]]\n",
    "print(deep_flatten(another_list))"
   ]
  },
  {
   "cell_type": "code",
   "execution_count": 3,
   "metadata": {
    "tags": []
   },
   "outputs": [
    {
     "output_type": "stream",
     "name": "stdout",
     "text": "[1, 2, 3, 4, 5, 6, 7, 8, 9, 10]\n"
    }
   ],
   "source": [
    "# Like the cell above, this function works well for flattening lists within lists,\n",
    "# however, this is a more shallow flattening\n",
    "def spread(aList):\n",
    "    flattened = []\n",
    "    for element in aList:\n",
    "        if isinstance(element, list):\n",
    "            flattened.extend(element)\n",
    "        else:\n",
    "            flattened.append(element)\n",
    "    return flattened\n",
    "\n",
    "another_list = [1, 2, [3, 4], 5, [6, 7, 8], [9, 10]]\n",
    "print(spread(another_list))"
   ]
  },
  {
   "cell_type": "code",
   "execution_count": 4,
   "metadata": {
    "tags": []
   },
   "outputs": [
    {
     "output_type": "stream",
     "name": "stdout",
     "text": "[9, 2]\n"
    }
   ],
   "source": [
    "# Sometimes it is useful to perform a list difference to know the elements that are\n",
    "# exclusive to an iterable\n",
    "\n",
    "# It is useful to know that this function performs the classic set difference, given sets A and B\n",
    "# Difference = A AND NOT B\n",
    "def difference(list_a, list_b):\n",
    "    set_a = set(list_a)\n",
    "    set_b = set(list_b)\n",
    "    return list(set_a.difference(set_b))\n",
    "\n",
    "list1 = [4, 2, 6, 87, 9]\n",
    "list2 = [4, 4, 6, 87, 11]\n",
    "\n",
    "print(difference(list1, list2))"
   ]
  },
  {
   "cell_type": "code",
   "execution_count": 9,
   "metadata": {
    "tags": []
   },
   "outputs": [
    {
     "output_type": "stream",
     "name": "stdout",
     "text": "True\nFalse\n"
    }
   ],
   "source": [
    "# While we're still using the set function, we can use them to check if\n",
    "# a list contains entry duplicates, as sets only contain unique entries\n",
    "def hasDuplicates(aList):\n",
    "    return len(aList) != len(set(aList))\n",
    "\n",
    "another_list = [1, 2, 3, 5, 6, 3, 8, 1]\n",
    "a_list = [1, 2, 3, 5, 6, 0, 8, 9]\n",
    "print(hasDuplicates(another_list))\n",
    "print(hasDuplicates(a_list))"
   ]
  },
  {
   "cell_type": "code",
   "execution_count": 6,
   "metadata": {
    "tags": []
   },
   "outputs": [
    {
     "output_type": "stream",
     "name": "stdout",
     "text": "11\n"
    }
   ],
   "source": [
    "# Python allows us to use functions as parameters inputing the arguments later\n",
    "def add(number_a, number_b):\n",
    "    return number_a + number_b\n",
    "\n",
    "def subtract(number_a, number_b):\n",
    "    return number_a - number_b\n",
    "\n",
    "a, b = 3, 8\n",
    "# (tuple1 = statement) (tuple2 = arguments)\n",
    "print((add if a < b else subtract)(a, b))"
   ]
  },
  {
   "cell_type": "code",
   "execution_count": 11,
   "metadata": {
    "tags": []
   },
   "outputs": [
    {
     "output_type": "stream",
     "name": "stdout",
     "text": "{'A': 1, 'B': 2, 'C': 3, 'D': 4, 'E': 5, 'F': 6}\n{'A': 1, 'B': 2, 'C': 3, 'D': 4, 'E': 5, 'F': 6}\n"
    }
   ],
   "source": [
    "# Other times we find ourselves working with dictionaries and we\n",
    "# may need to have merge them into a single dict to work better\n",
    "def merge_dictionaries(dict_a, dict_b):\n",
    "    temp = dict_a.copy()\n",
    "    temp.update(dict_b)\n",
    "    return temp\n",
    "\n",
    "#If our Python version is > 3.5 it's even easier\n",
    "def merge_dicts(dict_a, dict_b):\n",
    "    return {**dict_a, **dict_b}\n",
    "\n",
    "one_dict = {'A' : 1, 'B' : 2, 'C' : 3}\n",
    "another_dict = {'D' : 4, 'E' : 5, 'F' : 6}\n",
    "\n",
    "print(merge_dictionaries(one_dict, another_dict))\n",
    "print(merge_dicts(one_dict, another_dict))"
   ]
  },
  {
   "cell_type": "code",
   "execution_count": 13,
   "metadata": {
    "tags": []
   },
   "outputs": [
    {
     "output_type": "stream",
     "name": "stdout",
     "text": "{'A': 1, 'B': 2, 'C': 3}\n"
    }
   ],
   "source": [
    "# Sometimes I need to convert two lists into a dictionary\n",
    "def lists_to_dictionary(keys, values):\n",
    "    return dict(zip(keys, values))\n",
    "\n",
    "letters = ['A', 'B', 'C']\n",
    "position = [1, 2, 3]\n",
    "\n",
    "print(lists_to_dictionary(letters, position))"
   ]
  }
 ],
 "metadata": {
  "kernelspec": {
   "name": "python37",
   "language": "python",
   "display_name": "Python3.7"
  },
  "language_info": {
   "codemirror_mode": {
    "name": "ipython",
    "version": 2
   },
   "file_extension": ".py",
   "mimetype": "text/x-python",
   "name": "python",
   "nbconvert_exporter": "python",
   "pygments_lexer": "ipython2",
   "version": "3.7.0-final"
  },
  "pycharm": {
   "stem_cell": {
    "cell_type": "raw",
    "source": [],
    "metadata": {
     "collapsed": false
    }
   }
  }
 },
 "nbformat": 4,
 "nbformat_minor": 0
}